{
 "cells": [
  {
   "cell_type": "markdown",
   "metadata": {},
   "source": [
    "# The purpose of this code is to show you hoy to make box plots with examples"
   ]
  },
  {
   "cell_type": "code",
   "execution_count": 1,
   "metadata": {},
   "outputs": [],
   "source": [
    "%reset -f"
   ]
  },
  {
   "cell_type": "code",
   "execution_count": 2,
   "metadata": {},
   "outputs": [],
   "source": [
    "import matplotlib.pyplot as plt\n",
    "import pandas as pd\n",
    "import numpy as np"
   ]
  },
  {
   "cell_type": "code",
   "execution_count": 3,
   "metadata": {},
   "outputs": [],
   "source": [
    "def cm2inch(cm: float) -> float:\n",
    "    return cm * (1 / 2.54)"
   ]
  },
  {
   "cell_type": "markdown",
   "metadata": {},
   "source": [
    "This portion of code is for those who use vscode and use a custom theme, this will avoid that pesky white line when ploting"
   ]
  },
  {
   "cell_type": "code",
   "execution_count": 4,
   "metadata": {},
   "outputs": [
    {
     "data": {
      "text/html": [
       "<style>\n",
       ".cell-output-ipywidget-background {\n",
       "   background-color: transparent !important;\n",
       "}\n",
       ".jp-OutputArea-output {\n",
       "   background-color: transparent;\n",
       "}  \n",
       "</style>\n"
      ],
      "text/plain": [
       "<IPython.core.display.HTML object>"
      ]
     },
     "metadata": {},
     "output_type": "display_data"
    }
   ],
   "source": [
    "%%html\n",
    "<style>\n",
    ".cell-output-ipywidget-background {\n",
    "   background-color: transparent !important;\n",
    "}\n",
    ".jp-OutputArea-output {\n",
    "   background-color: transparent;\n",
    "}  \n",
    "</style>"
   ]
  },
  {
   "cell_type": "markdown",
   "metadata": {},
   "source": [
    "Through the the file presented below I use the style fivethirtyeight (this is just a personal choose), but, you can reverse and use the default one\n",
    "\n",
    "- plt.style.use('default')\n",
    "- plt.style.use('fivethirtyeight')"
   ]
  },
  {
   "cell_type": "markdown",
   "metadata": {},
   "source": [
    "# Color pallet\n",
    "\n",
    "A simple color pallet"
   ]
  },
  {
   "cell_type": "code",
   "execution_count": 5,
   "metadata": {},
   "outputs": [],
   "source": [
    "colors ={\n",
    "    'red': '#EB1E2C',\n",
    "    'orange1': '#FD6F30',\n",
    "    'orange2': '#F9A729',\n",
    "    'yellow': '#F9D23C',\n",
    "    'green': '#5FBB68',\n",
    "    'blue': '#00A5E3',\n",
    "    'teal': '#64CDCC',\n",
    "    'aqua': '#91DCEA',\n",
    "    'purple': '#A4A4D5',\n",
    "    'ligth_purple': '#BBC9E5',\n",
    "}"
   ]
  },
  {
   "cell_type": "markdown",
   "metadata": {},
   "source": [
    "# First example\n",
    "\n",
    "How to make simple box plots without so much personalization"
   ]
  },
  {
   "cell_type": "code",
   "execution_count": 6,
   "metadata": {},
   "outputs": [],
   "source": [
    "global_size = 10000\n",
    "\n",
    "mu_n, sigma_n = 2, 0.1\n",
    "normal_distribution = np.random.normal(mu_n, sigma_n, size = global_size)\n",
    "\n",
    "shape, scale = 5, 2\n",
    "gamma_distribution = np.random.gamma(shape, scale, size = global_size)\n",
    "\n",
    "lam = 40\n",
    "poisson_distribution = np.random.poisson(lam, size = global_size)"
   ]
  },
  {
   "cell_type": "code",
   "execution_count": 7,
   "metadata": {},
   "outputs": [
    {
     "data": {
      "text/html": [
       "<div>\n",
       "<style scoped>\n",
       "    .dataframe tbody tr th:only-of-type {\n",
       "        vertical-align: middle;\n",
       "    }\n",
       "\n",
       "    .dataframe tbody tr th {\n",
       "        vertical-align: top;\n",
       "    }\n",
       "\n",
       "    .dataframe thead th {\n",
       "        text-align: right;\n",
       "    }\n",
       "</style>\n",
       "<table border=\"1\" class=\"dataframe\">\n",
       "  <thead>\n",
       "    <tr style=\"text-align: right;\">\n",
       "      <th></th>\n",
       "      <th>normal_distribution</th>\n",
       "      <th>gamma_distribution</th>\n",
       "      <th>poisson_distribution</th>\n",
       "    </tr>\n",
       "  </thead>\n",
       "  <tbody>\n",
       "    <tr>\n",
       "      <th>0</th>\n",
       "      <td>2.023906</td>\n",
       "      <td>14.182726</td>\n",
       "      <td>28</td>\n",
       "    </tr>\n",
       "    <tr>\n",
       "      <th>1</th>\n",
       "      <td>2.066887</td>\n",
       "      <td>4.114955</td>\n",
       "      <td>41</td>\n",
       "    </tr>\n",
       "    <tr>\n",
       "      <th>2</th>\n",
       "      <td>2.197897</td>\n",
       "      <td>10.611516</td>\n",
       "      <td>33</td>\n",
       "    </tr>\n",
       "    <tr>\n",
       "      <th>3</th>\n",
       "      <td>1.916725</td>\n",
       "      <td>8.538158</td>\n",
       "      <td>49</td>\n",
       "    </tr>\n",
       "    <tr>\n",
       "      <th>4</th>\n",
       "      <td>1.971603</td>\n",
       "      <td>7.342043</td>\n",
       "      <td>37</td>\n",
       "    </tr>\n",
       "  </tbody>\n",
       "</table>\n",
       "</div>"
      ],
      "text/plain": [
       "   normal_distribution  gamma_distribution  poisson_distribution\n",
       "0             2.023906           14.182726                    28\n",
       "1             2.066887            4.114955                    41\n",
       "2             2.197897           10.611516                    33\n",
       "3             1.916725            8.538158                    49\n",
       "4             1.971603            7.342043                    37"
      ]
     },
     "execution_count": 7,
     "metadata": {},
     "output_type": "execute_result"
    }
   ],
   "source": [
    "df = pd.DataFrame({'normal_distribution': normal_distribution,\n",
    "                   'gamma_distribution': gamma_distribution,\n",
    "                   'poisson_distribution': poisson_distribution})\n",
    "df.head()"
   ]
  },
  {
   "cell_type": "code",
   "execution_count": 8,
   "metadata": {},
   "outputs": [
    {
     "data": {
      "text/html": [
       "<div>\n",
       "<style scoped>\n",
       "    .dataframe tbody tr th:only-of-type {\n",
       "        vertical-align: middle;\n",
       "    }\n",
       "\n",
       "    .dataframe tbody tr th {\n",
       "        vertical-align: top;\n",
       "    }\n",
       "\n",
       "    .dataframe thead th {\n",
       "        text-align: right;\n",
       "    }\n",
       "</style>\n",
       "<table border=\"1\" class=\"dataframe\">\n",
       "  <thead>\n",
       "    <tr style=\"text-align: right;\">\n",
       "      <th></th>\n",
       "      <th>normal_distribution</th>\n",
       "      <th>gamma_distribution</th>\n",
       "      <th>poisson_distribution</th>\n",
       "    </tr>\n",
       "  </thead>\n",
       "  <tbody>\n",
       "    <tr>\n",
       "      <th>count</th>\n",
       "      <td>10000.000000</td>\n",
       "      <td>10000.000000</td>\n",
       "      <td>10000.000000</td>\n",
       "    </tr>\n",
       "    <tr>\n",
       "      <th>mean</th>\n",
       "      <td>2.000796</td>\n",
       "      <td>10.007985</td>\n",
       "      <td>40.043200</td>\n",
       "    </tr>\n",
       "    <tr>\n",
       "      <th>std</th>\n",
       "      <td>0.099900</td>\n",
       "      <td>4.440376</td>\n",
       "      <td>6.259637</td>\n",
       "    </tr>\n",
       "    <tr>\n",
       "      <th>min</th>\n",
       "      <td>1.612250</td>\n",
       "      <td>0.963237</td>\n",
       "      <td>18.000000</td>\n",
       "    </tr>\n",
       "    <tr>\n",
       "      <th>25%</th>\n",
       "      <td>1.932596</td>\n",
       "      <td>6.722172</td>\n",
       "      <td>36.000000</td>\n",
       "    </tr>\n",
       "    <tr>\n",
       "      <th>50%</th>\n",
       "      <td>2.000063</td>\n",
       "      <td>9.364613</td>\n",
       "      <td>40.000000</td>\n",
       "    </tr>\n",
       "    <tr>\n",
       "      <th>75%</th>\n",
       "      <td>2.067699</td>\n",
       "      <td>12.576389</td>\n",
       "      <td>44.000000</td>\n",
       "    </tr>\n",
       "    <tr>\n",
       "      <th>max</th>\n",
       "      <td>2.400788</td>\n",
       "      <td>35.244282</td>\n",
       "      <td>64.000000</td>\n",
       "    </tr>\n",
       "  </tbody>\n",
       "</table>\n",
       "</div>"
      ],
      "text/plain": [
       "       normal_distribution  gamma_distribution  poisson_distribution\n",
       "count         10000.000000        10000.000000          10000.000000\n",
       "mean              2.000796           10.007985             40.043200\n",
       "std               0.099900            4.440376              6.259637\n",
       "min               1.612250            0.963237             18.000000\n",
       "25%               1.932596            6.722172             36.000000\n",
       "50%               2.000063            9.364613             40.000000\n",
       "75%               2.067699           12.576389             44.000000\n",
       "max               2.400788           35.244282             64.000000"
      ]
     },
     "execution_count": 8,
     "metadata": {},
     "output_type": "execute_result"
    }
   ],
   "source": [
    "df.describe()"
   ]
  },
  {
   "cell_type": "code",
   "execution_count": 9,
   "metadata": {},
   "outputs": [
    {
     "data": {
      "image/png": "[encoded data removed]",
      "text/plain": [
       "<Figure size 640x480 with 1 Axes>"
      ]
     },
     "metadata": {},
     "output_type": "display_data"
    }
   ],
   "source": [
    "fig = plt.figure(1, facecolor = 'white', edgecolor = 'white', constrained_layout = True)#, figsize = (cm2inch(30), cm2inch(15)))\n",
    "ax = plt.axes()\n",
    "ax.set(facecolor = 'white', frame_on = False)\n",
    "\n",
    "y_labels = ['Normal','Gamma','Poisson']\n",
    "boxplot = plt.boxplot([df['normal_distribution'],df['gamma_distribution'],df['poisson_distribution']], vert = False, patch_artist = True, labels = y_labels)\n",
    "\n",
    "plt.ylabel('Distributions', fontsize = 'large')\n",
    "plt.xlabel('Values', fontsize = 'large')\n",
    "plt.title('Different types of distributions', fontsize = 'large')\n",
    "\n",
    "# to personalize the colors of the box. For this to work, patch_artist needs to be set on True (patch_artist = True).\n",
    "custom_colors = [colors['green'], colors['red'], colors['orange1']]\n",
    "for i,j in zip(boxplot['boxes'], custom_colors):\n",
    "    i.set_facecolor(j)\n",
    "    i.set_alpha(0.75)\n",
    "\n",
    "# to personalize the median line\n",
    "for i in boxplot['medians']:\n",
    "    i.set_color('black')\n",
    "    i.set_linewidth(2)\n",
    "\n",
    "# plt.savefig('graph_name.jpg', dpi = 600, facecolor = fig.get_facecolor(), edgecolor='none')\n",
    "\n",
    "plt.show()"
   ]
  },
  {
   "cell_type": "markdown",
   "metadata": {},
   "source": [
    "#### Same as above, with a more directly way to set the y axis"
   ]
  },
  {
   "cell_type": "code",
   "execution_count": 10,
   "metadata": {},
   "outputs": [
    {
     "data": {
      "image/png": "[encoded data removed]",
      "text/plain": [
       "<Figure size 640x480 with 1 Axes>"
      ]
     },
     "metadata": {},
     "output_type": "display_data"
    }
   ],
   "source": [
    "fig = plt.figure(2, facecolor = 'white', edgecolor = 'white', constrained_layout = True)#, figsize = (cm2inch(30), cm2inch(15)))\n",
    "ax = plt.axes()\n",
    "ax.set(facecolor = 'white', frame_on = False)\n",
    "\n",
    "df.boxplot(vert = False)\n",
    "\n",
    "plt.ylabel('Distributions', fontsize = 'large')\n",
    "plt.xlabel('Values', fontsize = 'large')\n",
    "plt.title('Different types of distributions', fontsize = 'large')\n",
    "\n",
    "# plt.savefig('graph_name.jpg', dpi = 600, facecolor = fig.get_facecolor(), edgecolor='none')\n",
    "\n",
    "plt.show()"
   ]
  },
  {
   "cell_type": "code",
   "execution_count": null,
   "metadata": {},
   "outputs": [],
   "source": []
  }
 ],
 "metadata": {
  "kernelspec": {
   "display_name": "Python 3.9.12 ('lolaPy')",
   "language": "python",
   "name": "python3"
  },
  "language_info": {
   "codemirror_mode": {
    "name": "ipython",
    "version": 3
   },
   "file_extension": ".py",
   "mimetype": "text/x-python",
   "name": "python",
   "nbconvert_exporter": "python",
   "pygments_lexer": "ipython3",
   "version": "3.12.3"
  },
  "orig_nbformat": 4,
  "vscode": {
   "interpreter": {
    "hash": "67204d157a8e40f23e6aefa927bbb2541f8c149b06802b04156e2ff351b478d9"
   }
  }
 },
 "nbformat": 4,
 "nbformat_minor": 2
}
